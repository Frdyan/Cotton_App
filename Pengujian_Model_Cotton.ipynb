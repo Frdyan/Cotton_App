{
  "cells": [
    {
      "cell_type": "code",
      "execution_count": 1,
      "metadata": {
        "colab": {
          "base_uri": "https://localhost:8080/"
        },
        "id": "pEc7rMzMLEfU",
        "outputId": "184b5502-8767-4a63-e185-01ca999f0baf"
      },
      "outputs": [
        {
          "name": "stdout",
          "output_type": "stream",
          "text": [
            "Drive already mounted at /content/drive; to attempt to forcibly remount, call drive.mount(\"/content/drive\", force_remount=True).\n"
          ]
        }
      ],
      "source": [
        "from google.colab import drive\n",
        "drive.mount('/content/drive')"
      ]
    },
    {
      "cell_type": "code",
      "execution_count": 2,
      "metadata": {
        "id": "x5CbmagdLKBc"
      },
      "outputs": [],
      "source": [
        "from tensorflow.keras.models import load_model"
      ]
    },
    {
      "cell_type": "code",
      "execution_count": 3,
      "metadata": {
        "id": "maJ3oEFzLKlP"
      },
      "outputs": [],
      "source": [
        "model_path = '/content/drive/MyDrive/Database/Model_VGG16.h5'"
      ]
    },
    {
      "cell_type": "code",
      "execution_count": 4,
      "metadata": {
        "colab": {
          "base_uri": "https://localhost:8080/"
        },
        "id": "40H3UbgcLLqO",
        "outputId": "a1a05e6a-d6c4-4a36-9945-53cd48e47233"
      },
      "outputs": [
        {
          "name": "stderr",
          "output_type": "stream",
          "text": [
            "WARNING:absl:Compiled the loaded model, but the compiled metrics have yet to be built. `model.compile_metrics` will be empty until you train or evaluate the model.\n",
            "WARNING:absl:Error in loading the saved optimizer state. As a result, your model is starting with a freshly initialized optimizer.\n"
          ]
        }
      ],
      "source": [
        "model = load_model(model_path)"
      ]
    },
    {
      "cell_type": "code",
      "execution_count": 5,
      "metadata": {
        "colab": {
          "base_uri": "https://localhost:8080/"
        },
        "id": "7QPwQAtbLMWW",
        "outputId": "905bc9ae-142b-4a74-a2ab-e4d61ec81ccc"
      },
      "outputs": [
        {
          "name": "stdout",
          "output_type": "stream",
          "text": [
            "File zip berhasil diekstrak.\n"
          ]
        }
      ],
      "source": [
        "import zipfile\n",
        "\n",
        "# Nama file zip yang ingin diekstrak\n",
        "zip_file_path = \"/content/drive/MyDrive/Database/cotton_3.zip\"\n",
        "\n",
        "# Direktori tempat Anda ingin mengekstrak file\n",
        "extract_to_directory = \"/content\"\n",
        "\n",
        "# Membuka file zip\n",
        "with zipfile.ZipFile(zip_file_path, 'r') as zip_ref:\n",
        "    # Mengekstrak seluruh isi file ke direktori tertentu\n",
        "    zip_ref.extractall(extract_to_directory)\n",
        "\n",
        "print(\"File zip berhasil diekstrak.\")"
      ]
    },
    {
      "cell_type": "code",
      "execution_count": 6,
      "metadata": {
        "id": "8PG0FDPfLNLh"
      },
      "outputs": [],
      "source": [
        "from tensorflow.keras.preprocessing.image import ImageDataGenerator\n",
        "from sklearn.metrics import confusion_matrix, classification_report\n",
        "import numpy as np\n",
        "import matplotlib.pyplot as plt\n",
        "import seaborn as sns\n",
        "from glob import glob"
      ]
    },
    {
      "cell_type": "code",
      "execution_count": 7,
      "metadata": {
        "id": "jjYvGQyLLOvp"
      },
      "outputs": [],
      "source": [
        "test_path = '/content/cotton_3/test'"
      ]
    },
    {
      "cell_type": "code",
      "execution_count": 8,
      "metadata": {
        "id": "saDvsuzxLPWG"
      },
      "outputs": [],
      "source": [
        "test_datagen = ImageDataGenerator(rescale=1./255)"
      ]
    },
    {
      "cell_type": "code",
      "execution_count": 9,
      "metadata": {
        "colab": {
          "base_uri": "https://localhost:8080/"
        },
        "id": "by1Pk_iBLQIG",
        "outputId": "b977bd2c-4de7-40db-e51d-9aa590b7a8be"
      },
      "outputs": [
        {
          "name": "stdout",
          "output_type": "stream",
          "text": [
            "Found 100 images belonging to 4 classes.\n"
          ]
        }
      ],
      "source": [
        "test_generator = test_datagen.flow_from_directory(\n",
        "    test_path,\n",
        "    target_size=(224, 224),\n",
        "    batch_size=32,\n",
        "    class_mode='categorical',\n",
        "    shuffle=False\n",
        ")"
      ]
    },
    {
      "cell_type": "code",
      "execution_count": 10,
      "metadata": {
        "colab": {
          "base_uri": "https://localhost:8080/"
        },
        "id": "wDsvTslZLQ-I",
        "outputId": "492926d3-dd99-4a17-dac7-a8a16ac639b8"
      },
      "outputs": [
        {
          "name": "stderr",
          "output_type": "stream",
          "text": [
            "/usr/local/lib/python3.10/dist-packages/keras/src/trainers/data_adapters/py_dataset_adapter.py:121: UserWarning: Your `PyDataset` class should call `super().__init__(**kwargs)` in its constructor. `**kwargs` can include `workers`, `use_multiprocessing`, `max_queue_size`. Do not pass these arguments to `fit()`, as they will be ignored.\n",
            "  self._warn_if_super_not_called()\n"
          ]
        },
        {
          "name": "stdout",
          "output_type": "stream",
          "text": [
            "\u001b[1m4/4\u001b[0m \u001b[32m━━━━━━━━━━━━━━━━━━━━\u001b[0m\u001b[37m\u001b[0m \u001b[1m19s\u001b[0m 1s/step\n"
          ]
        }
      ],
      "source": [
        "test_steps = len(test_generator)\n",
        "test_generator.reset()\n",
        "predictions = model.predict(test_generator, steps=test_steps, verbose=1)\n",
        "predicted_classes = np.argmax(predictions, axis=1)\n",
        "true_classes = test_generator.classes"
      ]
    },
    {
      "cell_type": "code",
      "execution_count": 11,
      "metadata": {
        "id": "ckPJS79PLR1M"
      },
      "outputs": [],
      "source": [
        "# Get class labels\n",
        "folders = glob('/content/cotton_3/test/*')\n",
        "folders = [folder.split('/')[-1] for folder in folders]"
      ]
    },
    {
      "cell_type": "code",
      "execution_count": 12,
      "metadata": {
        "id": "L0MemguyLStT"
      },
      "outputs": [],
      "source": [
        "test_cm = confusion_matrix(true_classes, predicted_classes)\n",
        "test_cr = classification_report(true_classes, predicted_classes, target_names=folders)"
      ]
    },
    {
      "cell_type": "code",
      "execution_count": 13,
      "metadata": {
        "colab": {
          "base_uri": "https://localhost:8080/",
          "height": 641
        },
        "id": "9Hw2rMLELTSs",
        "outputId": "0015751f-1bb9-41ef-ad95-a08e668e5904"
      },
      "outputs": [
        {
          "data": {
            "image/png": "[encoded data removed]",
            "text/plain": [
              "<Figure size 1000x700 with 2 Axes>"
            ]
          },
          "metadata": {},
          "output_type": "display_data"
        }
      ],
      "source": [
        "    plt.figure(figsize=(10, 7))\n",
        "    sns.heatmap(test_cm, annot=True, fmt='d', cmap='Blues', xticklabels=folders, yticklabels=folders)\n",
        "    plt.title('Confusion Matrix - Test Data')\n",
        "    plt.xlabel('Predicted')\n",
        "    plt.ylabel('True')\n",
        "    plt.show()"
      ]
    },
    {
      "cell_type": "code",
      "execution_count": 14,
      "metadata": {
        "colab": {
          "base_uri": "https://localhost:8080/"
        },
        "id": "bTgRNHnoLTzY",
        "outputId": "d7f4ff05-bf28-48fc-f8aa-d2af5eb4ab0b"
      },
      "outputs": [
        {
          "name": "stdout",
          "output_type": "stream",
          "text": [
            "Classification Report - Test Data\n",
            "                  precision    recall  f1-score   support\n",
            "\n",
            "      Curl_Virus       0.74      1.00      0.85        25\n",
            "         Healthy       0.85      0.92      0.88        25\n",
            "Bacterial_Blight       1.00      0.84      0.91        25\n",
            "  Fussarium_Wilt       0.94      0.68      0.79        25\n",
            "\n",
            "        accuracy                           0.86       100\n",
            "       macro avg       0.88      0.86      0.86       100\n",
            "    weighted avg       0.88      0.86      0.86       100\n",
            "\n"
          ]
        }
      ],
      "source": [
        "print(\"Classification Report - Test Data\")\n",
        "print(test_cr)"
      ]
    }
  ],
  "metadata": {
    "accelerator": "GPU",
    "colab": {
      "gpuType": "T4",
      "provenance": []
    },
    "kernelspec": {
      "display_name": "Python 3",
      "name": "python3"
    },
    "language_info": {
      "name": "python"
    }
  },
  "nbformat": 4,
  "nbformat_minor": 0
}
